{
  "nbformat": 4,
  "nbformat_minor": 0,
  "metadata": {
    "colab": {
      "name": "Meta-VQE_Pennylane.ipynb",
      "provenance": [],
      "collapsed_sections": [
        "-p3tSCSBlLDE"
      ],
      "authorship_tag": "ABX9TyPGt/KVSoJue4bMoOfqbTb5",
      "include_colab_link": true
    },
    "kernelspec": {
      "name": "python3",
      "display_name": "Python 3"
    },
    "widgets": {
      "application/vnd.jupyter.widget-state+json": {
        "fa3a01afb3b84488b88abc7bf7941e8a": {
          "model_module": "@jupyter-widgets/controls",
          "model_name": "HBoxModel",
          "state": {
            "_view_name": "HBoxView",
            "_dom_classes": [],
            "_model_name": "HBoxModel",
            "_view_module": "@jupyter-widgets/controls",
            "_model_module_version": "1.5.0",
            "_view_count": null,
            "_view_module_version": "1.5.0",
            "box_style": "",
            "layout": "IPY_MODEL_a973fc8530334a01bd46650a009092f7",
            "_model_module": "@jupyter-widgets/controls",
            "children": [
              "IPY_MODEL_0c0fd7fe9b714b1d939705824f947a7a",
              "IPY_MODEL_e402523bfe22402b8a7ebf93f125c55c"
            ]
          }
        },
        "a973fc8530334a01bd46650a009092f7": {
          "model_module": "@jupyter-widgets/base",
          "model_name": "LayoutModel",
          "state": {
            "_view_name": "LayoutView",
            "grid_template_rows": null,
            "right": null,
            "justify_content": null,
            "_view_module": "@jupyter-widgets/base",
            "overflow": null,
            "_model_module_version": "1.2.0",
            "_view_count": null,
            "flex_flow": null,
            "width": null,
            "min_width": null,
            "border": null,
            "align_items": null,
            "bottom": null,
            "_model_module": "@jupyter-widgets/base",
            "top": null,
            "grid_column": null,
            "overflow_y": null,
            "overflow_x": null,
            "grid_auto_flow": null,
            "grid_area": null,
            "grid_template_columns": null,
            "flex": null,
            "_model_name": "LayoutModel",
            "justify_items": null,
            "grid_row": null,
            "max_height": null,
            "align_content": null,
            "visibility": null,
            "align_self": null,
            "height": null,
            "min_height": null,
            "padding": null,
            "grid_auto_rows": null,
            "grid_gap": null,
            "max_width": null,
            "order": null,
            "_view_module_version": "1.2.0",
            "grid_template_areas": null,
            "object_position": null,
            "object_fit": null,
            "grid_auto_columns": null,
            "margin": null,
            "display": null,
            "left": null
          }
        },
        "0c0fd7fe9b714b1d939705824f947a7a": {
          "model_module": "@jupyter-widgets/controls",
          "model_name": "FloatProgressModel",
          "state": {
            "_view_name": "ProgressView",
            "style": "IPY_MODEL_aed798f453b54a92ae601c51978c74a9",
            "_dom_classes": [],
            "description": "100%",
            "_model_name": "FloatProgressModel",
            "bar_style": "success",
            "max": 100,
            "_view_module": "@jupyter-widgets/controls",
            "_model_module_version": "1.5.0",
            "value": 100,
            "_view_count": null,
            "_view_module_version": "1.5.0",
            "orientation": "horizontal",
            "min": 0,
            "description_tooltip": null,
            "_model_module": "@jupyter-widgets/controls",
            "layout": "IPY_MODEL_90496ff90ec24401af789331ee787c13"
          }
        },
        "e402523bfe22402b8a7ebf93f125c55c": {
          "model_module": "@jupyter-widgets/controls",
          "model_name": "HTMLModel",
          "state": {
            "_view_name": "HTMLView",
            "style": "IPY_MODEL_5ed790c80a984e4a86c51ec7688ab825",
            "_dom_classes": [],
            "description": "",
            "_model_name": "HTMLModel",
            "placeholder": "​",
            "_view_module": "@jupyter-widgets/controls",
            "_model_module_version": "1.5.0",
            "value": " 100/100 [00:55&lt;00:00,  1.80it/s]",
            "_view_count": null,
            "_view_module_version": "1.5.0",
            "description_tooltip": null,
            "_model_module": "@jupyter-widgets/controls",
            "layout": "IPY_MODEL_6099d8b1d5a54616b64f16f8d1cfbe5b"
          }
        },
        "aed798f453b54a92ae601c51978c74a9": {
          "model_module": "@jupyter-widgets/controls",
          "model_name": "ProgressStyleModel",
          "state": {
            "_view_name": "StyleView",
            "_model_name": "ProgressStyleModel",
            "description_width": "initial",
            "_view_module": "@jupyter-widgets/base",
            "_model_module_version": "1.5.0",
            "_view_count": null,
            "_view_module_version": "1.2.0",
            "bar_color": null,
            "_model_module": "@jupyter-widgets/controls"
          }
        },
        "90496ff90ec24401af789331ee787c13": {
          "model_module": "@jupyter-widgets/base",
          "model_name": "LayoutModel",
          "state": {
            "_view_name": "LayoutView",
            "grid_template_rows": null,
            "right": null,
            "justify_content": null,
            "_view_module": "@jupyter-widgets/base",
            "overflow": null,
            "_model_module_version": "1.2.0",
            "_view_count": null,
            "flex_flow": null,
            "width": null,
            "min_width": null,
            "border": null,
            "align_items": null,
            "bottom": null,
            "_model_module": "@jupyter-widgets/base",
            "top": null,
            "grid_column": null,
            "overflow_y": null,
            "overflow_x": null,
            "grid_auto_flow": null,
            "grid_area": null,
            "grid_template_columns": null,
            "flex": null,
            "_model_name": "LayoutModel",
            "justify_items": null,
            "grid_row": null,
            "max_height": null,
            "align_content": null,
            "visibility": null,
            "align_self": null,
            "height": null,
            "min_height": null,
            "padding": null,
            "grid_auto_rows": null,
            "grid_gap": null,
            "max_width": null,
            "order": null,
            "_view_module_version": "1.2.0",
            "grid_template_areas": null,
            "object_position": null,
            "object_fit": null,
            "grid_auto_columns": null,
            "margin": null,
            "display": null,
            "left": null
          }
        },
        "5ed790c80a984e4a86c51ec7688ab825": {
          "model_module": "@jupyter-widgets/controls",
          "model_name": "DescriptionStyleModel",
          "state": {
            "_view_name": "StyleView",
            "_model_name": "DescriptionStyleModel",
            "description_width": "",
            "_view_module": "@jupyter-widgets/base",
            "_model_module_version": "1.5.0",
            "_view_count": null,
            "_view_module_version": "1.2.0",
            "_model_module": "@jupyter-widgets/controls"
          }
        },
        "6099d8b1d5a54616b64f16f8d1cfbe5b": {
          "model_module": "@jupyter-widgets/base",
          "model_name": "LayoutModel",
          "state": {
            "_view_name": "LayoutView",
            "grid_template_rows": null,
            "right": null,
            "justify_content": null,
            "_view_module": "@jupyter-widgets/base",
            "overflow": null,
            "_model_module_version": "1.2.0",
            "_view_count": null,
            "flex_flow": null,
            "width": null,
            "min_width": null,
            "border": null,
            "align_items": null,
            "bottom": null,
            "_model_module": "@jupyter-widgets/base",
            "top": null,
            "grid_column": null,
            "overflow_y": null,
            "overflow_x": null,
            "grid_auto_flow": null,
            "grid_area": null,
            "grid_template_columns": null,
            "flex": null,
            "_model_name": "LayoutModel",
            "justify_items": null,
            "grid_row": null,
            "max_height": null,
            "align_content": null,
            "visibility": null,
            "align_self": null,
            "height": null,
            "min_height": null,
            "padding": null,
            "grid_auto_rows": null,
            "grid_gap": null,
            "max_width": null,
            "order": null,
            "_view_module_version": "1.2.0",
            "grid_template_areas": null,
            "object_position": null,
            "object_fit": null,
            "grid_auto_columns": null,
            "margin": null,
            "display": null,
            "left": null
          }
        }
      }
    }
  },
  "cells": [
    {
      "cell_type": "markdown",
      "metadata": {
        "id": "view-in-github",
        "colab_type": "text"
      },
      "source": [
        "<a href=\"https://colab.research.google.com/github/nahumsa/qhack21/blob/master/Meta_VQE_Pennylane.ipynb\" target=\"_parent\"><img src=\"https://colab.research.google.com/assets/colab-badge.svg\" alt=\"Open In Colab\"/></a>"
      ]
    },
    {
      "cell_type": "code",
      "metadata": {
        "id": "ZzB6C0DClCc7"
      },
      "source": [
        "from IPython.display import clear_output\n",
        "! pip install pennylane\n",
        "clear_output()"
      ],
      "execution_count": 2,
      "outputs": []
    },
    {
      "cell_type": "markdown",
      "metadata": {
        "id": "-p3tSCSBlLDE"
      },
      "source": [
        "# Can meta-VQE beat barren Plateaus?"
      ]
    },
    {
      "cell_type": "markdown",
      "metadata": {
        "id": "LdsX1tFOLZi3"
      },
      "source": [
        "# 1) Meta-VQE\n",
        "\n",
        "For this demo I will be using the XXZ spin chain just like the original [Meta-VQE paper](https://arxiv.org/abs/2009.13545) and is based on the [demo](https://github.com/AlbaCL/qhack21/blob/main/Meta-VQE.ipynb) by Alba Cervera-Lierta written using [Tequila](https://github.com/aspuru-guzik-group/tequila).\n",
        "\n",
        "The XXZ spin chain has the following Hamiltonian:\n",
        "\n",
        "$$\n",
        "\\mathcal{H} = \\sum_{i=1}^N \\big( X_i X_{i+1} + Y_i Y_{i+1} + \\Delta Z_i Z_{i+1} \\big) + \\eta \\sum_{i=1}^N Z_i\n",
        "$$\n",
        "\n"
      ]
    },
    {
      "cell_type": "code",
      "metadata": {
        "id": "4nu_L3inI7LO"
      },
      "source": [
        "import numpy as np\n",
        "import pennylane as qml\n",
        "from tqdm.notebook import tqdm"
      ],
      "execution_count": 3,
      "outputs": []
    },
    {
      "cell_type": "code",
      "metadata": {
        "id": "TbOeVdmwNmzt"
      },
      "source": [
        "def hamiltonian_XXZ(n_qubits: int, delta: float, eta: float) -> qml.Hamiltonian:\n",
        "    \"\"\" Creates the XXZ hamiltonian, which is given by:\n",
        "\n",
        "    $$\n",
        "    \\mathcal{H} = \\sum_{i=1}^N \\big( X_i X_{i+1} + Y_i Y_{i+1} \n",
        "    + \\Delta Z_i Z_{i+1} \\big) + \\eta \\sum_{i=1}^N Z_i\n",
        "    $$\n",
        "\n",
        "    Args:\n",
        "        n_qubits(int): number of spins in the chain.\n",
        "        delta(float): delta parameter.\n",
        "        eta(float): eta parameter.\n",
        "    \"\"\"\n",
        "    hamiltonian = []\n",
        "    coeffs = []\n",
        "    \n",
        "    # Periodic Boundary Conditions\n",
        "    for op in [qml.PauliX, qml.PauliY, qml.PauliZ]:\n",
        "        hamiltonian.append(op(n_qubits-1)@op(0))\n",
        "        if op != qml.PauliZ :\n",
        "            coeffs.append(1.)\n",
        "        else:\n",
        "            coeffs.append(delta)\n",
        "    \n",
        "    hamiltonian.append(qml.PauliZ(n_qubits-1))\n",
        "    coeffs.append(eta)\n",
        "\n",
        "    for qubits in range(n_qubits - 1):\n",
        "        for op in [qml.PauliX, qml.PauliY, qml.PauliZ]:\n",
        "            \n",
        "            hamiltonian.append(op(qubits)@op(qubits+1))\n",
        "            \n",
        "            if op != qml.PauliZ :\n",
        "                coeffs.append(1.)\n",
        "            else:\n",
        "                coeffs.append(delta)\n",
        "        \n",
        "        hamiltonian.append(qml.PauliZ(qubits))\n",
        "        coeffs.append(eta)\n",
        "\n",
        "    H = qml.Hamiltonian(coeffs, hamiltonian, simplify=True)\n",
        "    return H\n",
        "\n",
        "def hamiltonian_to_matrix(H: qml.Hamiltonian) -> np.array:\n",
        "    \"\"\" Converts a pennylane Hamiltonian object into a matrix.\n",
        "\n",
        "    Args:\n",
        "        H(qml.Hamiltonian): Hamiltonian.\n",
        "\n",
        "    Output:\n",
        "        np.array: Outputs the matrix representation of the Hamiltonian.\n",
        "    \"\"\"\n",
        "    mat = np.zeros((2**n_qubits, 2**n_qubits), np.complex128)\n",
        "    for coef, op in zip(*H.terms):\n",
        "        mat += coef*qml.utils.expand(op.matrix, op.wires, n_qubits)\n",
        "    return mat\n",
        "\n",
        "def exact_gs(H: qml.Hamiltonian) -> float:\n",
        "    \"\"\" Calculates the Ground State energy of the Hamiltonian.\n",
        "\n",
        "    Args:\n",
        "        H(qml.Hamiltonian): Hamiltonian.\n",
        "\n",
        "    Output:\n",
        "        float: outputs the ground state energy of the Hamiltonian.\n",
        "    \"\"\"\n",
        "    matrix = hamiltonian_to_matrix(H)\n",
        "    energies = np.linalg.eigvals(matrix)\n",
        "    return np.real(min(energies))"
      ],
      "execution_count": 4,
      "outputs": []
    },
    {
      "cell_type": "code",
      "metadata": {
        "id": "pO_WDYfUOpfW"
      },
      "source": [
        "n_qubits = 2\n",
        "delta = 2.\n",
        "eta = 2.\n",
        "H = hamiltonian_XXZ(n_qubits, delta, eta)\n",
        "print(H)"
      ],
      "execution_count": null,
      "outputs": []
    },
    {
      "cell_type": "markdown",
      "metadata": {
        "id": "h7rzRH6mQZxm"
      },
      "source": [
        "## 1.1) Creating the ansatz\n",
        "\n",
        "In order to create an ansatz it is needed to do an encoding of the Hamiltonian parameter. For this case I choose to do a linear encoding of the parameter $\\Delta$ of the XXZ Hamiltonian:\n",
        "\n",
        "$$\n",
        "S(\\Delta, \\theta) = R_Z ( \\theta_0 \\ \\Delta + \\theta_1) R_Y ( \\theta_2 \\ \\Delta + \\theta_3)\n",
        "$$\n",
        "\n",
        "For the processing layer, U, we have that:\n",
        "\n",
        "$$\n",
        "U(\\theta) = R_Z ( \\theta_0 ) R_Y ( \\theta_1)\n",
        "$$"
      ]
    },
    {
      "cell_type": "code",
      "metadata": {
        "id": "-carCDUuSh6S"
      },
      "source": [
        "def variational_ansatz(params: np.array, delta: float , wires: qml.wires, H=None):\n",
        "    \"\"\" Variational ansatz with linear encoding.\n",
        "\n",
        "\n",
        "    \"\"\"\n",
        "    n_layers = params.shape[0]\n",
        "    n_qubits = params.shape[1]\n",
        "    for L in range(n_layers):\n",
        "        # Encoding Layer\n",
        "        if L % 2 == 0:\n",
        "            for qubit in range(n_qubits):\n",
        "                qml.RZ(params[L][qubit][0] * delta + params[L][qubit][1], wires=qubit)\n",
        "                qml.RY(params[L][qubit][2] * delta + params[L][qubit][3], wires=qubit)\n",
        "            \n",
        "            for ent in range(0, n_qubits - 1, 2):\n",
        "                qml.CNOT(wires= [ent, ent+1])\n",
        "        \n",
        "        # Processing Layer\n",
        "        else:\n",
        "            for qubit in range(n_qubits):\n",
        "                qml.RZ(params[L][qubit][0] , wires=qubit)\n",
        "                qml.RY(params[L][qubit][2] , wires=qubit)\n",
        "            \n",
        "            for ent in range(0, n_qubits - 1, 2):\n",
        "                qml.CNOT(wires= [ent, ent+1])"
      ],
      "execution_count": 7,
      "outputs": []
    },
    {
      "cell_type": "markdown",
      "metadata": {
        "id": "QltU9YSlo3GK"
      },
      "source": [
        "# 1.2) Defining the cost function\n",
        "\n",
        "The idea for the loss function is to minimize the energy value over all training points $H(\\lambda_i)$, thus I choose the same cost function as the original paper that is the sum over all training data:\n",
        "\n",
        "$$\n",
        "\\mathcal{L}_{\\mathrm{LOSS}} = \\sum_{i=1}^M \\langle \\psi_i | H (\\lambda_i) | \\psi_i \\rangle\n",
        "$$"
      ]
    },
    {
      "cell_type": "code",
      "metadata": {
        "id": "rQDB7ayxgeKm"
      },
      "source": [
        "def ExpvalH(H: qml.Hamiltonian, device: qml.device):\n",
        "    coeffs, observables = H.terms\n",
        "    qnodes = qml.map(\n",
        "            variational_ansatz, observables, device\n",
        "            )\n",
        "    cost = qml.dot(coeffs, qnodes)\n",
        "    return cost\n",
        "\n",
        "def m_vqe_cost(train_deltas: np.array, dev: qml.device , params: np.array):\n",
        "    # cost function value\n",
        "    c = 0.\n",
        "    n_qubits = dev.num_wires\n",
        "\n",
        "    for delta in train_deltas:\n",
        "        H = hamiltonian_XXZ(n_qubits, delta, eta)\n",
        "        cost = ExpvalH(H, dev)\n",
        "        c += cost(params, delta=delta)\n",
        "    \n",
        "    return c"
      ],
      "execution_count": 28,
      "outputs": []
    },
    {
      "cell_type": "code",
      "metadata": {
        "id": "O7_YxWxiiu3n"
      },
      "source": [
        "# Creating training data\n",
        "n_qubits = 2\n",
        "dev = qml.device(\"default.qubit\", wires=n_qubits)\n",
        "train_deltas = np.random.uniform(low=-1, high=1, size=5)\n",
        "\n",
        "# Hyperparameters\n",
        "eta = 0.75\n",
        "n_layers = 4 # One encoding and one processing\n",
        "L = 2*n_layers\n",
        "\n",
        "# initializing parameters\n",
        "params = np.random.uniform(low=-np.pi/2, high=np.pi/2, size=(L, n_qubits, 4))\n",
        "\n",
        "# Training Parameters\n",
        "epochs = 10\n",
        "optimizer = qml.AdagradOptimizer()\n",
        "\n",
        "from functools import partial\n",
        "\n",
        "# Applyies train_deltas for the Meta-VQE cost function\n",
        "cost_fn = partial(m_vqe_cost, train_deltas, dev)\n",
        "\n",
        "pbar = tqdm(range(epochs), desc='Energy', leave=True)\n",
        "\n",
        "for i in pbar:\n",
        "    params, val = optimizer.step_and_cost(cost_fn, params)\n",
        "    pbar.set_description(f\"Loss: {val:.3f}\")\n",
        "\n",
        "params_mvqe = params.copy()"
      ],
      "execution_count": null,
      "outputs": []
    },
    {
      "cell_type": "markdown",
      "metadata": {
        "id": "FYhGN4lOg2gS"
      },
      "source": [
        "## 1.3) Testing the trained model"
      ]
    },
    {
      "cell_type": "code",
      "metadata": {
        "id": "XAqVzd1drXD-"
      },
      "source": [
        "# Creating test data\n",
        "test_deltas = np.random.uniform(low=-1, high=1, size=50)\n",
        "test_energies = np.zeros_like(test_deltas)\n",
        "exact_energies = np.zeros_like(test_deltas)\n",
        "\n",
        "n_qubits = dev.num_wires\n",
        "\n",
        "for i, delta in tqdm(enumerate(test_deltas)):\n",
        "    H = hamiltonian_XXZ(n_qubits, delta, eta)\n",
        "    cost = ExpvalH(H, dev)\n",
        "    test_energies[i] = cost(params_mvqe, delta=delta)\n",
        "    exact_energies[i] = exact_gs(H)"
      ],
      "execution_count": null,
      "outputs": []
    },
    {
      "cell_type": "code",
      "metadata": {
        "colab": {
          "base_uri": "https://localhost:8080/",
          "height": 298
        },
        "id": "_qCe_AuOsSLK",
        "outputId": "306051e8-aa80-41d7-b50f-55e579dc3bec"
      },
      "source": [
        "import matplotlib.pyplot as plt\n",
        "\n",
        "plt.plot(test_deltas, test_energies, 'o', label='Meta-VQE')\n",
        "plt.plot(test_deltas, exact_energies, 'ro', label='Exact')\n",
        "plt.title(\"Test\")\n",
        "plt.xlabel(\"$\\Delta$\", fontsize=14)\n",
        "plt.ylabel(\"GS\", fontsize=14)\n",
        "plt.legend()\n",
        "plt.show()"
      ],
      "execution_count": 167,
      "outputs": [
        {
          "output_type": "display_data",
          "data": {
            "image/png": "[encoded data removed]",
            "text/plain": [
              "<Figure size 432x288 with 1 Axes>"
            ]
          },
          "metadata": {
            "tags": [],
            "needs_background": "light"
          }
        }
      ]
    },
    {
      "cell_type": "markdown",
      "metadata": {
        "id": "ap9x1uq5emCJ"
      },
      "source": [
        "## 2) Comparing the gradients after training and plain VQE\n",
        "\n",
        "The next step is to compare the weight initialization using Meta-VQE and random initialization for the problem."
      ]
    },
    {
      "cell_type": "markdown",
      "metadata": {
        "id": "dX4p5dNjeVsX"
      },
      "source": [
        "## Meta-VQE"
      ]
    },
    {
      "cell_type": "code",
      "metadata": {
        "id": "2urGFNDDepOZ"
      },
      "source": [
        "from functools import partial\n",
        "\n",
        "# Creating training data\n",
        "n_qubits = 5\n",
        "dev = qml.device(\"default.qubit\", wires=n_qubits)\n",
        "train_deltas = np.random.uniform(low=-1.1, high=1.1, size=5)\n",
        "\n",
        "# Hyperparameters\n",
        "eta = 0.75\n",
        "n_layers = 1 # One encoding and one processing\n",
        "L = 2*n_layers\n",
        "\n",
        "# initializing parameters\n",
        "params = np.random.uniform(low=-np.pi/2, high=np.pi/2, size=(L, n_qubits, 4))\n",
        "\n",
        "# Training Parameters\n",
        "epochs = 50\n",
        "optimizer = qml.AdagradOptimizer()\n",
        "\n",
        "v_gradient = []\n",
        "samples = 100\n",
        "\n",
        "for _ in tqdm(range(samples)):\n",
        "    # Applyies train_deltas for the Meta-VQE cost function\n",
        "    cost_fn = partial(m_vqe_cost, train_deltas, dev)\n",
        "    params = np.random.uniform(low=-np.pi/2, high=np.pi/2, size=(L, n_qubits, 4))\n",
        "    optimizer = qml.AdagradOptimizer()\n",
        "\n",
        "    # Optimization step\n",
        "    for i in range(epochs):\n",
        "        params, val = optimizer.step_and_cost(cost_fn, params)\n",
        "    # Copy optimal parameters\n",
        "    params_mvqe = params.copy()\n",
        "\n",
        "    H = hamiltonian_XXZ(n_qubits, delta=0., eta=eta)\n",
        "    # Compute the gradient\n",
        "    qcircuit = qml.QNode(variational_ansatz, dev)\n",
        "    cost_fn = ExpvalH(H, dev)\n",
        "    grad = qml.grad(cost_fn, argnum=0)\n",
        "    gradient = grad(params_mvqe, delta=0.)\n",
        "    v_gradient.append(gradient[0][0][-1])"
      ],
      "execution_count": null,
      "outputs": []
    },
    {
      "cell_type": "code",
      "metadata": {
        "colab": {
          "base_uri": "https://localhost:8080/"
        },
        "id": "u5o1EcdsfKsw",
        "outputId": "3be0868e-cc08-4834-c6f8-689a7b2c18eb"
      },
      "source": [
        "# 2 qubits\n",
        "var = np.var(v_gradient)\n",
        "mean = np.mean(v_gradient)\n",
        "print(f\"mean: {mean:.4f} +/- {var:.4f}\")"
      ],
      "execution_count": 12,
      "outputs": [
        {
          "output_type": "stream",
          "text": [
            "mean: 0.0644 +/- 2.2986\n"
          ],
          "name": "stdout"
        }
      ]
    },
    {
      "cell_type": "code",
      "metadata": {
        "colab": {
          "base_uri": "https://localhost:8080/"
        },
        "id": "n9SZc_FXpO_-",
        "outputId": "64d924e7-0921-4993-e1f2-3b2a0213db1f"
      },
      "source": [
        "# 3 qubits\n",
        "var = np.var(v_gradient)\n",
        "mean = np.mean(v_gradient)\n",
        "print(f\"mean: {mean:.4f} +/- {var:.4f}\")"
      ],
      "execution_count": 14,
      "outputs": [
        {
          "output_type": "stream",
          "text": [
            "mean: -0.1154 +/- 0.7320\n"
          ],
          "name": "stdout"
        }
      ]
    },
    {
      "cell_type": "code",
      "metadata": {
        "colab": {
          "base_uri": "https://localhost:8080/"
        },
        "id": "83I05KTQojfO",
        "outputId": "76ffa4fc-5352-4629-f5fd-82d8baae5a20"
      },
      "source": [
        "# 4 qubits\n",
        "var = np.var(v_gradient)\n",
        "mean = np.mean(v_gradient)\n",
        "print(f\"mean: {mean:.4f} +/- {var:.4f}\")"
      ],
      "execution_count": 10,
      "outputs": [
        {
          "output_type": "stream",
          "text": [
            "mean: -0.2379 +/- 0.7413\n"
          ],
          "name": "stdout"
        }
      ]
    },
    {
      "cell_type": "markdown",
      "metadata": {
        "id": "yOyWPGe08Iwr"
      },
      "source": [
        "## VQE"
      ]
    },
    {
      "cell_type": "code",
      "metadata": {
        "colab": {
          "base_uri": "https://localhost:8080/",
          "height": 65,
          "referenced_widgets": [
            "fa3a01afb3b84488b88abc7bf7941e8a",
            "a973fc8530334a01bd46650a009092f7",
            "0c0fd7fe9b714b1d939705824f947a7a",
            "e402523bfe22402b8a7ebf93f125c55c",
            "aed798f453b54a92ae601c51978c74a9",
            "90496ff90ec24401af789331ee787c13",
            "5ed790c80a984e4a86c51ec7688ab825",
            "6099d8b1d5a54616b64f16f8d1cfbe5b"
          ]
        },
        "id": "1Aj_Nm-nXSW4",
        "outputId": "509b4c3d-353e-47f2-de9a-447742f5e375"
      },
      "source": [
        "# Creating training data\n",
        "n_qubits = 5\n",
        "dev = qml.device(\"default.qubit\", wires=n_qubits)\n",
        "\n",
        "L = 2\n",
        "samples = 100\n",
        "v_gradient = []\n",
        "for _ in tqdm(range(samples)):\n",
        "    H = hamiltonian_XXZ(n_qubits, delta=0., eta=eta)\n",
        "    params = np.random.uniform(low=-np.pi/2, high=np.pi/2, size=(L, n_qubits, 4))\n",
        "    # Compute the gradient\n",
        "    qcircuit = qml.QNode(variational_ansatz, dev)\n",
        "    cost_fn = ExpvalH(H, dev)\n",
        "    grad = qml.grad(cost_fn, argnum=0)\n",
        "    gradient = grad(params, delta=0.)\n",
        "    v_gradient.append(gradient[0][0][-1])"
      ],
      "execution_count": 49,
      "outputs": [
        {
          "output_type": "display_data",
          "data": {
            "application/vnd.jupyter.widget-view+json": {
              "model_id": "fa3a01afb3b84488b88abc7bf7941e8a",
              "version_minor": 0,
              "version_major": 2
            },
            "text/plain": [
              "HBox(children=(FloatProgress(value=0.0), HTML(value='')))"
            ]
          },
          "metadata": {
            "tags": []
          }
        },
        {
          "output_type": "stream",
          "text": [
            "\n"
          ],
          "name": "stdout"
        }
      ]
    },
    {
      "cell_type": "code",
      "metadata": {
        "colab": {
          "base_uri": "https://localhost:8080/"
        },
        "id": "l43oLOg-Xmzz",
        "outputId": "c0b00903-1241-490d-9c5c-7b40736593e0"
      },
      "source": [
        "# 2 qubits\n",
        "var = np.var(v_gradient)\n",
        "mean = np.mean(v_gradient)\n",
        "print(f\"mean: {mean:.4f} +/- {var:.4f}\")"
      ],
      "execution_count": 23,
      "outputs": [
        {
          "output_type": "stream",
          "text": [
            "mean: 0.1927 +/- 2.0610\n"
          ],
          "name": "stdout"
        }
      ]
    },
    {
      "cell_type": "code",
      "metadata": {
        "colab": {
          "base_uri": "https://localhost:8080/"
        },
        "id": "2cLZjdn6YFrc",
        "outputId": "532fd84b-c6a4-4115-92d8-fc6746af4930"
      },
      "source": [
        "# 3 qubits\n",
        "var = np.var(v_gradient)\n",
        "mean = np.mean(v_gradient)\n",
        "print(f\"mean: {mean:.4f} +/- {var:.4f}\")"
      ],
      "execution_count": 31,
      "outputs": [
        {
          "output_type": "stream",
          "text": [
            "mean: -0.0350 +/- 0.7845\n"
          ],
          "name": "stdout"
        }
      ]
    },
    {
      "cell_type": "code",
      "metadata": {
        "colab": {
          "base_uri": "https://localhost:8080/"
        },
        "id": "X-SKZyBYYInN",
        "outputId": "ce67fb43-30fb-421c-e5d1-86715d22b931"
      },
      "source": [
        "# 4 qubits\n",
        "var = np.var(v_gradient)\n",
        "mean = np.mean(v_gradient)\n",
        "print(f\"mean: {mean:.4f} +/- {var:.4f}\")"
      ],
      "execution_count": 40,
      "outputs": [
        {
          "output_type": "stream",
          "text": [
            "mean: -0.1999 +/- 0.6010\n"
          ],
          "name": "stdout"
        }
      ]
    },
    {
      "cell_type": "code",
      "metadata": {
        "colab": {
          "base_uri": "https://localhost:8080/"
        },
        "id": "DpK2vHyabbdO",
        "outputId": "03a56c99-5ad4-4897-a5ef-cd42dfba3628"
      },
      "source": [
        "# 5 qubits\n",
        "var = np.var(v_gradient)\n",
        "mean = np.mean(v_gradient)\n",
        "print(f\"mean: {mean:.4f} +/- {var:.4f}\")"
      ],
      "execution_count": 50,
      "outputs": [
        {
          "output_type": "stream",
          "text": [
            "mean: -0.0266 +/- 0.5715\n"
          ],
          "name": "stdout"
        }
      ]
    },
    {
      "cell_type": "markdown",
      "metadata": {
        "id": "kuSe5OMMebEN"
      },
      "source": [
        "# Results"
      ]
    },
    {
      "cell_type": "code",
      "metadata": {
        "colab": {
          "base_uri": "https://localhost:8080/",
          "height": 321
        },
        "id": "6_C8YN2PZRcZ",
        "outputId": "92ac1a5d-5fa5-4886-cb08-fd91de97da6c"
      },
      "source": [
        "import matplotlib.pyplot as plt \n",
        "\n",
        "var_mvqe = [2.2386, 0.73, 0.74]\n",
        "var_vqe = [2.06, 0.78, 0.56]\n",
        "\n",
        "plt.plot(range(2,5), var_mvqe, '-o')\n",
        "plt.plot(range(2,5), var_vqe, '-o')\n",
        "plt.yscale('log')\n",
        "plt.xlabel('n qubits', fontsize=16)\n",
        "plt.ylabel(r'$\\partial\\theta$', fontsize=16)\n",
        "plt.title('Gradients', fontsize=20)"
      ],
      "execution_count": 54,
      "outputs": [
        {
          "output_type": "execute_result",
          "data": {
            "text/plain": [
              "Text(0.5, 1.0, 'Gradients')"
            ]
          },
          "metadata": {
            "tags": []
          },
          "execution_count": 54
        },
        {
          "output_type": "display_data",
          "data": {
            "image/png": "[encoded data removed]",
            "text/plain": [
              "<Figure size 432x288 with 1 Axes>"
            ]
          },
          "metadata": {
            "tags": [],
            "needs_background": "light"
          }
        }
      ]
    },
    {
      "cell_type": "code",
      "metadata": {
        "id": "8QkwRcd1ZvC3"
      },
      "source": [
        ""
      ],
      "execution_count": null,
      "outputs": []
    }
  ]
}